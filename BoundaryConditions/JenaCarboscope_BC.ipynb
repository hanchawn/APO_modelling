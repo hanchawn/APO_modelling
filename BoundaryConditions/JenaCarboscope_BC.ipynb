{
 "cells": [
  {
   "cell_type": "markdown",
   "metadata": {},
   "source": [
    "# Set up"
   ]
  },
  {
   "cell_type": "markdown",
   "metadata": {},
   "source": [
    "### Import modules"
   ]
  },
  {
   "cell_type": "code",
   "execution_count": 19,
   "metadata": {},
   "outputs": [],
   "source": [
    "import os\n",
    "\n",
    "from acrg.BC import timevarying_BC\n",
    "from acrg.config.paths import Paths"
   ]
  },
  {
   "cell_type": "markdown",
   "metadata": {},
   "source": [
    "### Define inputs"
   ]
  },
  {
   "cell_type": "code",
   "execution_count": 37,
   "metadata": {},
   "outputs": [],
   "source": [
    "years = [2010, 2011]\n",
    "species = ['apo', 'co2']\n",
    "\n",
    "adjust = {'apo': -18.0, 'co2': 310.052}"
   ]
  },
  {
   "cell_type": "markdown",
   "metadata": {},
   "source": [
    "# Create boundary conditions"
   ]
  },
  {
   "cell_type": "markdown",
   "metadata": {},
   "source": [
    "### Find data file"
   ]
  },
  {
   "cell_type": "code",
   "execution_count": 38,
   "metadata": {},
   "outputs": [
    {
     "name": "stdout",
     "output_type": "stream",
     "text": [
      "File found: /group/chemistry/acrg/Gridded_fluxes/APO/Jena_Carboscope/apo99X_WAO_v2021_mix_2010.nc\n",
      "File found: /group/chemistry/acrg/Gridded_fluxes/APO/Jena_Carboscope/apo99X_WAO_v2021_mix_2011.nc\n",
      "File found: /group/chemistry/acrg/Gridded_fluxes/CO2/Jena_Carboscope/s10oc_v2021_mix_2010.nc\n",
      "File found: /group/chemistry/acrg/Gridded_fluxes/CO2/Jena_Carboscope/s10oc_v2021_mix_2011.nc\n"
     ]
    }
   ],
   "source": [
    "jena_file_names = {spec: {year: f'apo99X_WAO_v2021_mix_{year}.nc' if spec=='apo' else \\\n",
    "                                f's10oc_v2021_mix_{year}.nc'\n",
    "                          for year in years}\n",
    "                   for spec in species}\n",
    "jena_files = {spec: {year: os.path.join(Paths.data, 'Gridded_fluxes', spec.upper(), 'Jena_Carboscope', jena_file_name)\n",
    "                     for year, jena_file_name in jena_spec.items()}\n",
    "              for spec, jena_spec in jena_file_names.items()}\n",
    "\n",
    "for spec, jena_spec in jena_files.items():\n",
    "    for year, jena_file in jena_spec.items():\n",
    "        if not os.path.isfile(jena_file):\n",
    "            print(f'File not found: {jena_file}')\n",
    "        else:\n",
    "            print(f'File found: {jena_file}')"
   ]
  },
  {
   "cell_type": "markdown",
   "metadata": {},
   "source": [
    "### Create boundary conditions file"
   ]
  },
  {
   "cell_type": "code",
   "execution_count": 39,
   "metadata": {},
   "outputs": [
    {
     "name": "stdout",
     "output_type": "stream",
     "text": [
      "Saving apo bcs to dir: /group/chemistry/acrg/LPDM/bc/EUROPE\n",
      "2010, Raw file: /group/chemistry/acrg/Gridded_fluxes/APO/Jena_Carboscope/apo99X_WAO_v2021_mix_2010.nc\n",
      "Adjusting vmr by -18.0\n",
      "\n",
      "Cutting vmr data to edges\n",
      "-------------------------\n",
      "Using footprint file: /group/chemistry/acrg/LPDM/fp_NAME/EUROPE/MHD-10magl_UKV_hfo-1234yf_EUROPE_201404.nc to extract domain\n",
      "\n",
      "Interpolating\n",
      "-------------\n",
      "-- Interpolating north boundary vmr --\n",
      "Interpolating height along lon\n",
      "Interpolating lat/lon along lon\n",
      "-- Interpolating south boundary vmr --\n",
      "Interpolating height along lon\n",
      "Interpolating lat/lon along lon\n",
      "-- Interpolating east boundary vmr --\n",
      "Interpolating height along lat\n",
      "Interpolating lat/lon along lat\n",
      "-- Interpolating west boundary vmr --\n",
      "Interpolating height along lat\n",
      "Interpolating lat/lon along lat\n",
      "\n",
      "Saving to netcdf\n",
      "----------------\n",
      "Copying attribute history\n",
      "Copying attribute references\n",
      "Output filename : apo_EUROPE_201001.nc\n",
      "Saving boundary conditions to : /group/chemistry/acrg/LPDM/bc/EUROPE/apo_EUROPE_201001.nc\n",
      "2011, Raw file: /group/chemistry/acrg/Gridded_fluxes/APO/Jena_Carboscope/apo99X_WAO_v2021_mix_2011.nc\n",
      "Adjusting vmr by -18.0\n",
      "\n",
      "Cutting vmr data to edges\n",
      "-------------------------\n",
      "Using footprint file: /group/chemistry/acrg/LPDM/fp_NAME/EUROPE/MHD-10magl_UKV_hfo-1234yf_EUROPE_201404.nc to extract domain\n",
      "\n",
      "Interpolating\n",
      "-------------\n",
      "-- Interpolating north boundary vmr --\n",
      "Interpolating height along lon\n",
      "Interpolating lat/lon along lon\n",
      "-- Interpolating south boundary vmr --\n",
      "Interpolating height along lon\n",
      "Interpolating lat/lon along lon\n",
      "-- Interpolating east boundary vmr --\n",
      "Interpolating height along lat\n",
      "Interpolating lat/lon along lat\n",
      "-- Interpolating west boundary vmr --\n",
      "Interpolating height along lat\n",
      "Interpolating lat/lon along lat\n",
      "\n",
      "Saving to netcdf\n",
      "----------------\n",
      "Copying attribute history\n",
      "Copying attribute references\n",
      "Output filename : apo_EUROPE_201101.nc\n",
      "Saving boundary conditions to : /group/chemistry/acrg/LPDM/bc/EUROPE/apo_EUROPE_201101.nc\n",
      "Saving co2 bcs to dir: /group/chemistry/acrg/LPDM/bc/EUROPE/co2_JenaCarboscope\n",
      "2010, Raw file: /group/chemistry/acrg/Gridded_fluxes/CO2/Jena_Carboscope/s10oc_v2021_mix_2010.nc\n",
      "Adjusting vmr by 310.052\n",
      "\n",
      "Cutting vmr data to edges\n",
      "-------------------------\n",
      "Using footprint file: /group/chemistry/acrg/LPDM/fp_NAME/EUROPE/MHD-10magl_UKV_hfo-1234yf_EUROPE_201404.nc to extract domain\n",
      "\n",
      "Interpolating\n",
      "-------------\n",
      "-- Interpolating north boundary vmr --\n",
      "Interpolating height along lon\n",
      "Interpolating lat/lon along lon\n",
      "-- Interpolating south boundary vmr --\n",
      "Interpolating height along lon\n",
      "Interpolating lat/lon along lon\n",
      "-- Interpolating east boundary vmr --\n",
      "Interpolating height along lat\n",
      "Interpolating lat/lon along lat\n",
      "-- Interpolating west boundary vmr --\n",
      "Interpolating height along lat\n",
      "Interpolating lat/lon along lat\n",
      "\n",
      "Saving to netcdf\n",
      "----------------\n",
      "Copying attribute history\n",
      "Copying attribute references\n",
      "Output filename : co2_EUROPE_201001.nc\n",
      "Saving boundary conditions to : /group/chemistry/acrg/LPDM/bc/EUROPE/co2_JenaCarboscope/co2_EUROPE_201001.nc\n",
      "2011, Raw file: /group/chemistry/acrg/Gridded_fluxes/CO2/Jena_Carboscope/s10oc_v2021_mix_2011.nc\n",
      "Adjusting vmr by 310.052\n",
      "\n",
      "Cutting vmr data to edges\n",
      "-------------------------\n",
      "Using footprint file: /group/chemistry/acrg/LPDM/fp_NAME/EUROPE/MHD-10magl_UKV_hfo-1234yf_EUROPE_201404.nc to extract domain\n",
      "\n",
      "Interpolating\n",
      "-------------\n",
      "-- Interpolating north boundary vmr --\n",
      "Interpolating height along lon\n",
      "Interpolating lat/lon along lon\n",
      "-- Interpolating south boundary vmr --\n",
      "Interpolating height along lon\n",
      "Interpolating lat/lon along lon\n",
      "-- Interpolating east boundary vmr --\n",
      "Interpolating height along lat\n",
      "Interpolating lat/lon along lat\n",
      "-- Interpolating west boundary vmr --\n",
      "Interpolating height along lat\n",
      "Interpolating lat/lon along lat\n",
      "\n",
      "Saving to netcdf\n",
      "----------------\n",
      "Copying attribute history\n",
      "Copying attribute references\n",
      "Output filename : co2_EUROPE_201101.nc\n",
      "Saving boundary conditions to : /group/chemistry/acrg/LPDM/bc/EUROPE/co2_JenaCarboscope/co2_EUROPE_201101.nc\n"
     ]
    }
   ],
   "source": [
    "out_path = {spec: os.path.join(Paths.lpdm, 'bc', 'EUROPE', f'{spec}_JenaCarboscope') \\\n",
    "                  if spec in ['co2'] else \\\n",
    "                  os.path.join(Paths.lpdm, 'bc', 'EUROPE')\n",
    "            for spec in species}\n",
    "\n",
    "for spec, jena_spec in jena_files.items():\n",
    "    print(f'Saving {spec} bcs to dir: {out_path[spec]}')\n",
    "\n",
    "    if not os.path.isdir(out_path[spec]):\n",
    "        os.mkdir(out_path[spec])\n",
    "\n",
    "    for year, jena_file in jena_spec.items():\n",
    "        print(f'{year}, raw file: {jena_file}')\n",
    "        if os.path.isfile(jena_file):\n",
    "            bc_obj = timevarying_BC.BoundaryConditions(vmr_var        = f'{spec}mix',\n",
    "                                                       gph_height_var = 'gph',\n",
    "                                                       filename       = jena_file,\n",
    "                                                       time_coord     = 'time',\n",
    "                                                       species        = spec.upper(),\n",
    "                                                       domain         = 'EUROPE',\n",
    "                                                       start_date     = None,\n",
    "                                                       adjust         = adjust[spec])\n",
    "\n",
    "            bc_obj.make_bc_file(fp_directory    = None,\n",
    "                                fp_height_coord = 'height',\n",
    "                                reverse         = None,\n",
    "                                convert_units   = False,\n",
    "                                datasource      = 'JenaCarboscope',\n",
    "                                out_path        = out_path[spec],\n",
    "                                glob_attrs      = {},\n",
    "                                copy_glob_attrs = ['history', 'references'],\n",
    "                                verbose         = True)\n",
    "        else:\n",
    "            print(f'File not found:\\n{jena_file}')"
   ]
  }
 ],
 "metadata": {
  "kernelspec": {
   "display_name": "Python 3.10.4 ('base')",
   "language": "python",
   "name": "python3"
  },
  "language_info": {
   "codemirror_mode": {
    "name": "ipython",
    "version": 3
   },
   "file_extension": ".py",
   "mimetype": "text/x-python",
   "name": "python",
   "nbconvert_exporter": "python",
   "pygments_lexer": "ipython3",
   "version": "3.10.4"
  },
  "vscode": {
   "interpreter": {
    "hash": "a7b9ea855fd2a0d1055d2cd49bc721329a323af9e5d0d4de951f2edb7885dd7b"
   }
  }
 },
 "nbformat": 4,
 "nbformat_minor": 4
}
