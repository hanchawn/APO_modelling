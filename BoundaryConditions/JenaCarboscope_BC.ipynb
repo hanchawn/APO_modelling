{
 "cells": [
  {
   "cell_type": "markdown",
   "metadata": {},
   "source": [
    "# Create boundry conditions from the Jena Carboscope fluxes\n",
    "\n",
    "We model the contribution from boundary conditions at the edge of our domain using fluxes from the Jena Carboscope inversion\n",
    "\n",
    "We calculate the boundary conditions for APO, CO2, and O2"
   ]
  },
  {
   "cell_type": "markdown",
   "metadata": {},
   "source": [
    "### Import modules"
   ]
  },
  {
   "cell_type": "code",
   "execution_count": 19,
   "metadata": {},
   "outputs": [],
   "source": [
    "import os, glob\n",
    "from datetime import date\n",
    "\n",
    "from acrg.name import name\n",
    "from acrg.BC import timevarying_BC\n",
    "from acrg.config.paths import Paths"
   ]
  },
  {
   "cell_type": "markdown",
   "metadata": {},
   "source": [
    "### Define inputs"
   ]
  },
  {
   "cell_type": "code",
   "execution_count": 37,
   "metadata": {},
   "outputs": [],
   "source": [
    "years = [2010, 2011]\n",
    "species = ['apo', 'co2']\n",
    "\n",
    "adjust = {'apo': -18.0, 'co2': 310.052}"
   ]
  },
  {
   "cell_type": "markdown",
   "metadata": {},
   "source": [
    "## Create boundary conditions"
   ]
  },
  {
   "cell_type": "markdown",
   "metadata": {},
   "source": [
    "### Find data file"
   ]
  },
  {
   "cell_type": "code",
   "execution_count": 38,
   "metadata": {},
   "outputs": [
    {
     "name": "stdout",
     "output_type": "stream",
     "text": [
      "File found: /group/chemistry/acrg/Gridded_fluxes/APO/Jena_Carboscope/apo99X_WAO_v2021_mix_2010.nc\n",
      "File found: /group/chemistry/acrg/Gridded_fluxes/APO/Jena_Carboscope/apo99X_WAO_v2021_mix_2011.nc\n",
      "File found: /group/chemistry/acrg/Gridded_fluxes/CO2/Jena_Carboscope/s10oc_v2021_mix_2010.nc\n",
      "File found: /group/chemistry/acrg/Gridded_fluxes/CO2/Jena_Carboscope/s10oc_v2021_mix_2011.nc\n"
     ]
    }
   ],
   "source": [
    "jena_file_names = {spec: {year: f'apo99X_WAO_v2021_mix_{year}.nc' if spec=='apo' else \\\n",
    "                                f's10oc_v2021_mix_{year}.nc'\n",
    "                          for year in years}\n",
    "                   for spec in species}\n",
    "jena_files = {spec: {year: os.path.join(Paths.data, 'Gridded_fluxes', spec.upper(), 'Jena_Carboscope', jena_file_name)\n",
    "                     for year, jena_file_name in jena_spec.items()}\n",
    "              for spec, jena_spec in jena_file_names.items()}\n",
    "\n",
    "for spec, jena_spec in jena_files.items():\n",
    "    for year, jena_file in jena_spec.items():\n",
    "        if not os.path.isfile(jena_file):\n",
    "            print(f'File not found: {jena_file}')\n",
    "        else:\n",
    "            print(f'File found: {jena_file}')"
   ]
  },
  {
   "cell_type": "markdown",
   "metadata": {},
   "source": [
    "### Create boundary conditions file"
   ]
  },
  {
   "cell_type": "code",
   "execution_count": 39,
   "metadata": {},
   "outputs": [
    {
     "name": "stdout",
     "output_type": "stream",
     "text": [
      "Saving apo bcs to dir: /group/chemistry/acrg/LPDM/bc/EUROPE\n",
      "2010, Raw file: /group/chemistry/acrg/Gridded_fluxes/APO/Jena_Carboscope/apo99X_WAO_v2021_mix_2010.nc\n",
      "Adjusting vmr by -18.0\n",
      "\n",
      "Cutting vmr data to edges\n",
      "-------------------------\n",
      "Using footprint file: /group/chemistry/acrg/LPDM/fp_NAME/EUROPE/MHD-10magl_UKV_hfo-1234yf_EUROPE_201404.nc to extract domain\n",
      "\n",
      "Interpolating\n",
      "-------------\n",
      "-- Interpolating north boundary vmr --\n",
      "Interpolating height along lon\n",
      "Interpolating lat/lon along lon\n",
      "-- Interpolating south boundary vmr --\n",
      "Interpolating height along lon\n",
      "Interpolating lat/lon along lon\n",
      "-- Interpolating east boundary vmr --\n",
      "Interpolating height along lat\n",
      "Interpolating lat/lon along lat\n",
      "-- Interpolating west boundary vmr --\n",
      "Interpolating height along lat\n",
      "Interpolating lat/lon along lat\n",
      "\n",
      "Saving to netcdf\n",
      "----------------\n",
      "Copying attribute history\n",
      "Copying attribute references\n",
      "Output filename : apo_EUROPE_201001.nc\n",
      "Saving boundary conditions to : /group/chemistry/acrg/LPDM/bc/EUROPE/apo_EUROPE_201001.nc\n",
      "2011, Raw file: /group/chemistry/acrg/Gridded_fluxes/APO/Jena_Carboscope/apo99X_WAO_v2021_mix_2011.nc\n",
      "Adjusting vmr by -18.0\n",
      "\n",
      "Cutting vmr data to edges\n",
      "-------------------------\n",
      "Using footprint file: /group/chemistry/acrg/LPDM/fp_NAME/EUROPE/MHD-10magl_UKV_hfo-1234yf_EUROPE_201404.nc to extract domain\n",
      "\n",
      "Interpolating\n",
      "-------------\n",
      "-- Interpolating north boundary vmr --\n",
      "Interpolating height along lon\n",
      "Interpolating lat/lon along lon\n",
      "-- Interpolating south boundary vmr --\n",
      "Interpolating height along lon\n",
      "Interpolating lat/lon along lon\n",
      "-- Interpolating east boundary vmr --\n",
      "Interpolating height along lat\n",
      "Interpolating lat/lon along lat\n",
      "-- Interpolating west boundary vmr --\n",
      "Interpolating height along lat\n",
      "Interpolating lat/lon along lat\n",
      "\n",
      "Saving to netcdf\n",
      "----------------\n",
      "Copying attribute history\n",
      "Copying attribute references\n",
      "Output filename : apo_EUROPE_201101.nc\n",
      "Saving boundary conditions to : /group/chemistry/acrg/LPDM/bc/EUROPE/apo_EUROPE_201101.nc\n",
      "Saving co2 bcs to dir: /group/chemistry/acrg/LPDM/bc/EUROPE/co2_JenaCarboscope\n",
      "2010, Raw file: /group/chemistry/acrg/Gridded_fluxes/CO2/Jena_Carboscope/s10oc_v2021_mix_2010.nc\n",
      "Adjusting vmr by 310.052\n",
      "\n",
      "Cutting vmr data to edges\n",
      "-------------------------\n",
      "Using footprint file: /group/chemistry/acrg/LPDM/fp_NAME/EUROPE/MHD-10magl_UKV_hfo-1234yf_EUROPE_201404.nc to extract domain\n",
      "\n",
      "Interpolating\n",
      "-------------\n",
      "-- Interpolating north boundary vmr --\n",
      "Interpolating height along lon\n",
      "Interpolating lat/lon along lon\n",
      "-- Interpolating south boundary vmr --\n",
      "Interpolating height along lon\n",
      "Interpolating lat/lon along lon\n",
      "-- Interpolating east boundary vmr --\n",
      "Interpolating height along lat\n",
      "Interpolating lat/lon along lat\n",
      "-- Interpolating west boundary vmr --\n",
      "Interpolating height along lat\n",
      "Interpolating lat/lon along lat\n",
      "\n",
      "Saving to netcdf\n",
      "----------------\n",
      "Copying attribute history\n",
      "Copying attribute references\n",
      "Output filename : co2_EUROPE_201001.nc\n",
      "Saving boundary conditions to : /group/chemistry/acrg/LPDM/bc/EUROPE/co2_JenaCarboscope/co2_EUROPE_201001.nc\n",
      "2011, Raw file: /group/chemistry/acrg/Gridded_fluxes/CO2/Jena_Carboscope/s10oc_v2021_mix_2011.nc\n",
      "Adjusting vmr by 310.052\n",
      "\n",
      "Cutting vmr data to edges\n",
      "-------------------------\n",
      "Using footprint file: /group/chemistry/acrg/LPDM/fp_NAME/EUROPE/MHD-10magl_UKV_hfo-1234yf_EUROPE_201404.nc to extract domain\n",
      "\n",
      "Interpolating\n",
      "-------------\n",
      "-- Interpolating north boundary vmr --\n",
      "Interpolating height along lon\n",
      "Interpolating lat/lon along lon\n",
      "-- Interpolating south boundary vmr --\n",
      "Interpolating height along lon\n",
      "Interpolating lat/lon along lon\n",
      "-- Interpolating east boundary vmr --\n",
      "Interpolating height along lat\n",
      "Interpolating lat/lon along lat\n",
      "-- Interpolating west boundary vmr --\n",
      "Interpolating height along lat\n",
      "Interpolating lat/lon along lat\n",
      "\n",
      "Saving to netcdf\n",
      "----------------\n",
      "Copying attribute history\n",
      "Copying attribute references\n",
      "Output filename : co2_EUROPE_201101.nc\n",
      "Saving boundary conditions to : /group/chemistry/acrg/LPDM/bc/EUROPE/co2_JenaCarboscope/co2_EUROPE_201101.nc\n"
     ]
    }
   ],
   "source": [
    "out_path = {spec: os.path.join(Paths.lpdm, 'bc', 'EUROPE', f'{spec}_JenaCarboscope') \\\n",
    "                  if spec in ['co2'] else \\\n",
    "                  os.path.join(Paths.lpdm, 'bc', 'EUROPE')\n",
    "            for spec in species}\n",
    "\n",
    "for spec, jena_spec in jena_files.items():\n",
    "    print(f'Saving {spec} bcs to dir: {out_path[spec]}')\n",
    "\n",
    "    if not os.path.isdir(out_path[spec]):\n",
    "        os.mkdir(out_path[spec])\n",
    "\n",
    "    for year, jena_file in jena_spec.items():\n",
    "        print(f'{year}, raw file: {jena_file}')\n",
    "        if os.path.isfile(jena_file):\n",
    "            bc_obj = timevarying_BC.BoundaryConditions(vmr_var        = f'{spec}mix',\n",
    "                                                       gph_height_var = 'gph',\n",
    "                                                       filename       = jena_file,\n",
    "                                                       time_coord     = 'time',\n",
    "                                                       species        = spec.upper(),\n",
    "                                                       domain         = 'EUROPE',\n",
    "                                                       start_date     = None,\n",
    "                                                       adjust         = adjust[spec])\n",
    "\n",
    "            bc_obj.make_bc_file(fp_directory    = None,\n",
    "                                fp_height_coord = 'height',\n",
    "                                reverse         = None,\n",
    "                                convert_units   = False,\n",
    "                                datasource      = 'JenaCarboscope',\n",
    "                                out_path        = out_path[spec],\n",
    "                                glob_attrs      = {},\n",
    "                                copy_glob_attrs = ['history', 'references'],\n",
    "                                verbose         = True)\n",
    "        else:\n",
    "            print(f'File not found:\\n{jena_file}')"
   ]
  },
  {
   "cell_type": "markdown",
   "metadata": {},
   "source": [
    "## Calcuate the O2 boundary conditions\n",
    "\n",
    "We can calculate the O2 boundary conditions from the APO and CO2\n",
    "\n",
    "Information to be used below:\n",
    "\n",
    "Reference values are taken from Rodenbeck et al., 2008:\n",
    "\n",
    "$X_0^{CO_2} = 350$ \\\n",
    "$X_0^{N_2} = 790190$ \\\n",
    "$X_0^{O_2} = 209460$"
   ]
  },
  {
   "cell_type": "code",
   "execution_count": null,
   "metadata": {},
   "outputs": [],
   "source": [
    "ref_values = {'co2': 350, 'n2': 790190, 'o2': 209460}\n",
    "ref_values['o2_n2'] = ref_values['o2'] / ref_values['n2']"
   ]
  },
  {
   "cell_type": "markdown",
   "metadata": {},
   "source": [
    "## Get the data\n",
    "\n",
    "Get the netcdf files for the apo and co2 boundary conditions and open using xarray"
   ]
  },
  {
   "cell_type": "code",
   "execution_count": null,
   "metadata": {},
   "outputs": [],
   "source": [
    "bc_dir = {'apo': os.path.join(Paths.lpdm, 'bc', 'EUROPE')}\n",
    "bc_dir['co2'] = os.path.join(bc_dir['apo'], 'co2_JenaCarboscope')\n",
    "\n",
    "bc_files = {spec: glob.glob(os.path.join(directory, f'{spec}_EUROPE_{year}01.nc'))[0]\n",
    "            for spec, directory in bc_dir.items()}\n",
    "\n",
    "[print(f'{spec}: {bc}') for spec, bc in bc_files.items()]\n",
    "\n",
    "bc_data = {spec: name.open_ds(bc) for spec, bc in bc_files.items()}"
   ]
  },
  {
   "cell_type": "code",
   "execution_count": null,
   "metadata": {},
   "outputs": [],
   "source": [
    "bc_data['apo'] = bc_data['apo'] / 0.20946 if (abs(bc_data['apo'].vmr_n)<100).all() else bc_data['apo']\n",
    "bc_data['apo']"
   ]
  },
  {
   "cell_type": "markdown",
   "metadata": {},
   "source": [
    "## Calculate the O2 boundary conditions\n",
    "\n",
    "Use the APO equation to calculate the $\\delta (O2/N2)$ boundary conditions:\n",
    "\n",
    "$\\delta (APO) = \\delta (O2/N2) + 1.1 / X_O^{O2} (CO_2 - X_0^{CO_2}) \\times 10^6$\n",
    "\n",
    "\\\n",
    "Then use the $\\delta (O2/N2)$ equation to calculate the O2 boundary conditions:\n",
    "\n",
    "$\\delta (O2/N2) = \\frac{(O_2 / N_2)_{sample} - (O_2 / N_2)_{refence}}{(O_2 / N_2)_{refence}}$"
   ]
  },
  {
   "cell_type": "code",
   "execution_count": null,
   "metadata": {},
   "outputs": [],
   "source": [
    "per_meg_conversion = 1e6/ref_values['o2']\n",
    "print(f'per meg conversion: {per_meg_conversion}')\n",
    "del_o2_n2 = bc_data['apo'] * per_meg_conversion - 1.1 * per_meg_conversion * (bc_data['co2'] - ref_values['co2'])\n",
    "bc_o2 = (del_o2_n2 * ref_values['o2_n2'] * 1e-6 + ref_values['o2_n2']) * ref_values['n2']"
   ]
  },
  {
   "cell_type": "markdown",
   "metadata": {},
   "source": [
    "## Save to netcdf\n",
    "\n",
    "Add attributes to the O2 dataset including the sim from which the bcs are estimated and the date created.\n",
    "\n",
    "Create a standard filename in the same format as those for other species in /user/work/chxmr/shared/LPDM/bc/EUROPE .\\\n",
    "Save the dataset to a netcdf file in the shared directory."
   ]
  },
  {
   "cell_type": "code",
   "execution_count": null,
   "metadata": {},
   "outputs": [],
   "source": [
    "# copy the CO2 attributes\n",
    "o2_attrs = bc_data['co2'].attrs\n",
    "# edit the species in the attributes title\n",
    "o2_attrs['title'] = 'O2'.join(bc_data['co2'].attrs['title'].split('CO2'))\n",
    "# add a description to explain how the bcs were estimated\n",
    "o2_attrs['description'] = 'Estimated from Jena Carboscope CO2 and APO boundary conditions using APO equation'\n",
    "# edit the creation date\n",
    "o2_attrs['date_created'] = str(date.today())\n",
    "\n",
    "# add the attributes to the O2 dataset\n",
    "bc_o2 = bc_o2.assign_attrs(o2_attrs)\n",
    "\n",
    "# create a standardised filename\n",
    "filename = os.path.join(bc_dir['apo'], f'o2_EUROPE_{year}01.nc')\n",
    "\n",
    "if os.path.isfile(filename):\n",
    "    print(f'Boundary condition file {filename} already exists.')\n",
    "    answer = input(\"You are about to overwrite an existing file, do you want to continue? Y/N \")\n",
    "    save = False if answer.upper() == 'N' else True\n",
    "else:\n",
    "    save = True\n",
    "\n",
    "# save the file\n",
    "if save:\n",
    "    print(f'Saving to: {filename}')\n",
    "    bc_o2.to_netcdf(filename)\n",
    "else:\n",
    "    print('Not overwriting file')"
   ]
  }
 ],
 "metadata": {
  "kernelspec": {
   "display_name": "Python 3.10.4 ('base')",
   "language": "python",
   "name": "python3"
  },
  "language_info": {
   "codemirror_mode": {
    "name": "ipython",
    "version": 3
   },
   "file_extension": ".py",
   "mimetype": "text/x-python",
   "name": "python",
   "nbconvert_exporter": "python",
   "pygments_lexer": "ipython3",
   "version": "3.10.4"
  },
  "vscode": {
   "interpreter": {
    "hash": "a7b9ea855fd2a0d1055d2cd49bc721329a323af9e5d0d4de951f2edb7885dd7b"
   }
  }
 },
 "nbformat": 4,
 "nbformat_minor": 4
}
