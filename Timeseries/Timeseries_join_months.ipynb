{
 "cells": [
  {
   "cell_type": "code",
   "execution_count": 1,
   "metadata": {},
   "outputs": [],
   "source": [
    "import os, sys, glob\n",
    "\n",
    "from acrg.name import name\n",
    "\n",
    "from apo_funcs import join_monthly_files"
   ]
  },
  {
   "cell_type": "code",
   "execution_count": 2,
   "metadata": {},
   "outputs": [],
   "source": [
    "year = 2015\n",
    "site = 'WAO'\n",
    "sector = 'ff_gridfed' #'bc' #'bio_orchidee'  #'ocean' #'ff_gridfed-ukghg' #'ff-ukghg-solvents'\n",
    "climatology = False"
   ]
  },
  {
   "cell_type": "code",
   "execution_count": 3,
   "metadata": {},
   "outputs": [
    {
     "name": "stdout",
     "output_type": "stream",
     "text": [
      "Searching /user/work/vf20487/Timeseries/o2_co2\n",
      "  for files with pattern: WAO_ff_gridfed_timeseries_2015*.nc\n",
      "Monthly files found:\n",
      " --- /user/work/vf20487/Timeseries/o2_co2/WAO_ff_gridfed_timeseries_201501.nc\n",
      " --- /user/work/vf20487/Timeseries/o2_co2/WAO_ff_gridfed_timeseries_201502.nc\n",
      " --- /user/work/vf20487/Timeseries/o2_co2/WAO_ff_gridfed_timeseries_201503.nc\n",
      " --- /user/work/vf20487/Timeseries/o2_co2/WAO_ff_gridfed_timeseries_201504.nc\n",
      " --- /user/work/vf20487/Timeseries/o2_co2/WAO_ff_gridfed_timeseries_201505.nc\n",
      " --- /user/work/vf20487/Timeseries/o2_co2/WAO_ff_gridfed_timeseries_201506.nc\n",
      " --- /user/work/vf20487/Timeseries/o2_co2/WAO_ff_gridfed_timeseries_201507.nc\n",
      " --- /user/work/vf20487/Timeseries/o2_co2/WAO_ff_gridfed_timeseries_201508.nc\n",
      " --- /user/work/vf20487/Timeseries/o2_co2/WAO_ff_gridfed_timeseries_201509.nc\n",
      " --- /user/work/vf20487/Timeseries/o2_co2/WAO_ff_gridfed_timeseries_201510.nc\n",
      " --- /user/work/vf20487/Timeseries/o2_co2/WAO_ff_gridfed_timeseries_201511.nc\n",
      " --- /user/work/vf20487/Timeseries/o2_co2/WAO_ff_gridfed_timeseries_201512.nc\n",
      "Saving to: /user/work/vf20487/Timeseries/o2_co2/WAO_ff_gridfed_timeseries_2015.nc\n",
      "Removing monthly files\n",
      "Done\n"
     ]
    }
   ],
   "source": [
    "# change to directory containing fpdm files\n",
    "ts_path = os.path.join('/user', 'work', 'vf20487', 'Timeseries', 'o2_co2')\n",
    "\n",
    "clim_str = f'_climatology' if climatology else ''\n",
    "\n",
    "join_monthly_files(file_pattern = f'{site}_{sector}_timeseries{clim_str}',\n",
    "                   year = year,\n",
    "                   path = ts_path,\n",
    "                   zip_months = False,\n",
    "                   remove_months = True,\n",
    "                   verbose = True)"
   ]
  },
  {
   "cell_type": "code",
   "execution_count": 15,
   "metadata": {},
   "outputs": [],
   "source": [
    "from acrg.name.name import open_ds"
   ]
  },
  {
   "cell_type": "code",
   "execution_count": 18,
   "metadata": {},
   "outputs": [],
   "source": [
    "broken_file = '/user/work/vf20487/Timeseries/o2_co2/MHD_bc_timeseries_201412.nc'\n",
    "\n",
    "bc = open_ds(broken_file)\n",
    "time_attrs = bc.time.attrs\n",
    "time_attrs['period'] = '1 hours'\n",
    "\n",
    "bc['time'] = bc.time.assign_attrs(time_attrs)\n",
    "\n",
    "bc.to_netcdf(broken_file)"
   ]
  }
 ],
 "metadata": {
  "interpreter": {
   "hash": "a7b9ea855fd2a0d1055d2cd49bc721329a323af9e5d0d4de951f2edb7885dd7b"
  },
  "kernelspec": {
   "display_name": "Python 3.8.6 ('acrg')",
   "language": "python",
   "name": "python3"
  },
  "language_info": {
   "codemirror_mode": {
    "name": "ipython",
    "version": 3
   },
   "file_extension": ".py",
   "mimetype": "text/x-python",
   "name": "python",
   "nbconvert_exporter": "python",
   "pygments_lexer": "ipython3",
   "version": "3.10.4"
  },
  "orig_nbformat": 4
 },
 "nbformat": 4,
 "nbformat_minor": 2
}
